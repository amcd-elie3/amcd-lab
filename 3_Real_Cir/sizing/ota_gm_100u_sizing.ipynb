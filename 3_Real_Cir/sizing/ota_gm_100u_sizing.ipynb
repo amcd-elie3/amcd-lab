{
 "cells": [
  {
   "cell_type": "markdown",
   "metadata": {},
   "source": [
    "# Sizing for a Simple OTA with PMOS Active Load {.unnumbered .unlisted}\n",
    "\n",
    "**Analysis of a differential amplifier based on the provided netlist.**\n",
    "\n",
    "M1/M2: Differential input pair (NMOS)\n",
    "M7/M8: PMOS active load (current mirror)\n",
    "M3/M4: Reference leg of the PMOS current mirror\n",
    "M11: Tail current source for the input pair\n",
    "M5/M6: Common-Mode Feedback (CMFB) circuit transistors\n",
    "M9, M10, M12: Bias current mirror network"
   ]
  },
  {
   "cell_type": "code",
   "execution_count": 1,
   "metadata": {},
   "outputs": [],
   "source": [
    "# read table data\n",
    "from pygmid import Lookup as lk\n",
    "import numpy as np\n",
    "lv_nmos = lk('sg13_lv_nmos.mat')\n",
    "lv_pmos = lk('sg13_lv_pmos.mat')\n",
    "# list of parameters: VGS, VDS, VSB, L, W, NFING, ID, VT, GM, GMB, GDS, CGG, CGB, CGD, CGS, CDD, CSS, STH, SFL"
   ]
  },
  {
   "cell_type": "code",
   "execution_count": 2,
   "metadata": {},
   "outputs": [],
   "source": [
    "# define the given parameters as taken from the specification table or initial guesses\n",
    "c_load = 50e-15  # Load capacitance per output (fully differential)\n",
    "gm_id_m12 = 18    # gm/ID for input differential pair\n",
    "gm_id_m78 = 15     # gm/ID for PMOS active load\n",
    "gm_id_m34 = 15     # gm/ID for reference transistors\n",
    "gm_id_m56 = 10    # gm/ID for CMFB transistors\n",
    "gm_id_bias = 10   # gm/ID for bias transistors\n",
    "\n",
    "# Channel lengths\n",
    "l_12 = 0.5        # Input pair length\n",
    "l_78 = 0.5        # Active load length\n",
    "l_34 = 0.5        # Reference transistor length\n",
    "l_56 = 0.5        # CMFB transistor length\n",
    "l_bias = 0.5      # Bias transistor length\n",
    "\n",
    "# Specifications\n",
    "f_bw = 10e6       # Required unity gain bandwidth\n",
    "a0_target = 60    # Target DC gain in dB\n",
    "i_total_limit = 10e-6  # Total current budget\n",
    "i_bias_in = 100e-6      # Input bias current\n",
    "output_voltage = 1.3 # Required output voltage level\n",
    "vin_min = 0.7          # Input voltage minimum \n",
    "vin_max = 0.9          # Input voltage maximum \n",
    "vdd_min = 1.45         # Supply voltage minimum \n",
    "vdd_max = 1.55         # Supply voltage maximum \n",
    "vss = 0.0              # Ground\n",
    "vds_headroom = 0.2     # Minimum VDS for saturation"
   ]
  },
  {
   "cell_type": "code",
   "execution_count": 3,
   "metadata": {},
   "outputs": [
    {
     "name": "stdout",
     "output_type": "stream",
     "text": [
      "Required gm12 = 0.01 mS\n",
      "Input pair bias current = 0.52 µA each\n",
      "Tail current = 1.05 µA\n"
     ]
    }
   ],
   "source": [
    "# Calculate required gm of input pair from bandwidth specification\n",
    "safety_factor = 3\n",
    "gm_m12 = f_bw * 2 * np.pi * c_load * safety_factor\n",
    "print(f'Required gm12 = {gm_m12*1e3:.2f} mS')\n",
    "\n",
    "# Calculate bias current for input pair\n",
    "id_m12 = gm_m12 / gm_id_m12\n",
    "print(f'Input pair bias current = {id_m12*1e6:.2f} µA each')\n",
    "\n",
    "# Total tail current\n",
    "i_tail = 2 * id_m12\n",
    "print(f'Tail current = {i_tail*1e6:.2f} µA')"
   ]
  },
  {
   "cell_type": "code",
   "execution_count": 4,
   "metadata": {},
   "outputs": [
    {
     "name": "stdout",
     "output_type": "stream",
     "text": [
      "Active load current = 0.52 µA each\n",
      "Reference current = 0.52 µA each\n",
      "Total supply current = 2.09 µA\n",
      "[INFO] Power consumption target is met!\n"
     ]
    }
   ],
   "source": [
    "# Calculate currents for other transistors\n",
    "# M7/M8: PMOS active load - same current as input pair\n",
    "id_m78 = id_m12\n",
    "print(f'Active load current = {id_m78*1e6:.2f} µA each')\n",
    "\n",
    "# M3/M4: Reference for PMOS current mirror\n",
    "id_m34 = id_m78  # Same as mirrored current\n",
    "print(f'Reference current = {id_m34*1e6:.2f} µA each')\n",
    "\n",
    "# Total supply current (simplified - just the main differential pair branch)\n",
    "i_total = i_tail + 2*id_m34  # Tail + two reference branches\n",
    "print(f'Total supply current = {i_total*1e6:.2f} µA')\n",
    "\n",
    "if i_total < i_total_limit:\n",
    "    print('[INFO] Power consumption target is met!')\n",
    "else:\n",
    "    print('[WARNING] Power consumption target is NOT met!')"
   ]
  },
  {
   "cell_type": "code",
   "execution_count": 5,
   "metadata": {},
   "outputs": [
    {
     "name": "stdout",
     "output_type": "stream",
     "text": [
      "DC gain = 21.5 dB\n",
      "Output resistance = 1.3 MΩ\n"
     ]
    }
   ],
   "source": [
    "# Calculate DC gain\n",
    "# For a simple OTA with active load: A0 = gm_m12 * (ro_m12 || ro_m78)\n",
    "# where ro = 1/gds = (gm/gds) / gm\n",
    "\n",
    "# Look up gm/gds ratios for the input pair and the active load\n",
    "gm_gds_m12 = lv_nmos.lookup('GM_GDS', GM_ID=gm_id_m12, L=l_12, VDS=vds_headroom)\n",
    "gm_gds_m78 = lv_pmos.lookup('GM_GDS', GM_ID=gm_id_m78, L=l_78, VDS=vds_headroom)\n",
    "\n",
    "# Calculate transconductances\n",
    "gm_m78 = gm_id_m78 * id_m78\n",
    "\n",
    "# Calculate output resistances\n",
    "ro_m12 = gm_gds_m12 / gm_m12\n",
    "ro_m78 = gm_gds_m78 / gm_m78\n",
    "\n",
    "# Total output resistance (parallel combination of NMOS and PMOS output resistances)\n",
    "ro_total = 1 / (1/ro_m12 + 1/ro_m78)\n",
    "\n",
    "# DC gain\n",
    "a0 = gm_m12 * ro_total\n",
    "a0_db = 20 * np.log10(a0)\n",
    "\n",
    "print(f'DC gain = {a0_db:.1f} dB')\n",
    "print(f'Output resistance = {ro_total*1e-6:.1f} MΩ')"
   ]
  },
  {
   "cell_type": "code",
   "execution_count": 6,
   "metadata": {},
   "outputs": [
    {
     "name": "stdout",
     "output_type": "stream",
     "text": [
      "Input parasitic capacitance = -0.4 fF\n",
      "Output parasitic capacitance = 0.8 fF per output\n",
      "Actual unity gain bandwidth = 29.5 MHz\n",
      "Estimated phase margin = 88.9°\n"
     ]
    }
   ],
   "source": [
    "# Calculate parasitic capacitances and actual bandwidth\n",
    "# Look up capacitance ratios\n",
    "gm_cgs_m12 = lv_nmos.lookup('GM_CGS', GM_ID=gm_id_m12, L=l_12, VDS=vds_headroom)\n",
    "gm_cdd_m12 = lv_nmos.lookup('GM_CDD', GM_ID=gm_id_m12, L=l_12, VDS=vds_headroom)\n",
    "gm_cdd_m78 = lv_pmos.lookup('GM_CDD', GM_ID=gm_id_m78, L=l_78, VDS=vds_headroom)\n",
    "\n",
    "# Calculate parasitic capacitances\n",
    "c_parasitic_input = gm_m12 / gm_cgs_m12  # Input capacitance\n",
    "c_parasitic_output = gm_m12 / gm_cdd_m12 + gm_m78 / gm_cdd_m78  # Output parasitic per node\n",
    "\n",
    "print(f'Input parasitic capacitance = {c_parasitic_input*1e15:.1f} fF')\n",
    "print(f'Output parasitic capacitance = {c_parasitic_output*1e15:.1f} fF per output')\n",
    "\n",
    "# Actual unity gain bandwidth including parasitics\n",
    "c_total = c_load + c_parasitic_output\n",
    "f_ugb_actual = gm_m12 / (2 * np.pi * c_total)\n",
    "print(f'Actual unity gain bandwidth = {f_ugb_actual*1e-6:.1f} MHz')\n",
    "\n",
    "# Phase margin (simplified estimate)\n",
    "# Dominant pole at output, second pole approximately at gm/C_parasitic\n",
    "f_p2 = min(gm_m12, gm_m78) / (2 * np.pi * c_parasitic_output)\n",
    "phase_margin = 90 - np.arctan(f_ugb_actual / f_p2) * 180 / np.pi\n",
    "print(f'Estimated phase margin = {phase_margin:.1f}°')"
   ]
  },
  {
   "cell_type": "code",
   "execution_count": 7,
   "metadata": {},
   "outputs": [
    {
     "name": "stdout",
     "output_type": "stream",
     "text": [
      "VGS M1/M2 = 0.325 V\n",
      "VGS M7/M8 = 0.447 V\n",
      "VGS M3/M4 = 0.447 V\n",
      "VGS M5/M6 = 0.446 V\n",
      "VGS bias = 0.446 V\n"
     ]
    }
   ],
   "source": [
    "# Look up VGS values for biasing\n",
    "vgs_m12 = lv_nmos.look_upVGS(GM_ID=gm_id_m12, L=l_12, VDS=vds_headroom)\n",
    "vgs_m78 = lv_pmos.look_upVGS(GM_ID=gm_id_m78, L=l_78, VDS=vds_headroom)\n",
    "vgs_m34 = lv_pmos.look_upVGS(GM_ID=gm_id_m34, L=l_34, VDS=vds_headroom)\n",
    "vgs_m56 = lv_nmos.look_upVGS(GM_ID=gm_id_m56, L=l_56, VDS=vds_headroom)\n",
    "vgs_bias = lv_nmos.look_upVGS(GM_ID=gm_id_bias, L=l_bias, VDS=vds_headroom)\n",
    "\n",
    "print(f'VGS M1/M2 = {float(vgs_m12):.3f} V')\n",
    "print(f'VGS M7/M8 = {float(vgs_m78):.3f} V')\n",
    "print(f'VGS M3/M4 = {float(vgs_m34):.3f} V')\n",
    "print(f'VGS M5/M6 = {float(vgs_m56):.3f} V')\n",
    "print(f'VGS bias = {float(vgs_bias):.3f} V')"
   ]
  },
  {
   "cell_type": "code",
   "execution_count": 8,
   "metadata": {},
   "outputs": [
    {
     "name": "stdout",
     "output_type": "stream",
     "text": [
      "M1/M2 W = 0.29 µm, rounded = 0.5 µm\n",
      "M7/M8 W = 0.63 µm, rounded = 0.5 µm\n",
      "M3/M4 W = 0.63 µm, rounded = 0.5 µm\n",
      "M5/M6 W = 0.06 µm, rounded = 0.5 µm\n",
      "M11 (tail) W = 0.11 µm, rounded = 0.5 µm\n",
      "M9/M10/M12 W = 47.75 µm, rounded = 47.5 µm\n"
     ]
    }
   ],
   "source": [
    "# Calculate transistor widths\n",
    "# M1/M2: Input differential pair\n",
    "id_w_m12 = lv_nmos.lookup('ID_W', GM_ID=gm_id_m12, L=l_12, VDS=vds_headroom)\n",
    "w_m12 = id_m12 / id_w_m12\n",
    "w_m12_round = max(round(w_m12 * 2) / 2, 0.5)\n",
    "print(f'M1/M2 W = {w_m12:.2f} µm, rounded = {w_m12_round} µm')\n",
    "\n",
    "# M7/M8: PMOS Active Load\n",
    "id_w_m78 = lv_pmos.lookup('ID_W', GM_ID=gm_id_m78, L=l_78, VDS=vds_headroom)\n",
    "w_m78 = id_m78 / id_w_m78\n",
    "w_m78_round = max(round(w_m78 * 2) / 2, 0.5)\n",
    "print(f'M7/M8 W = {w_m78:.2f} µm, rounded = {w_m78_round} µm')\n",
    "\n",
    "# M3/M4: Reference for current mirror\n",
    "id_w_m34 = lv_pmos.lookup('ID_W', GM_ID=gm_id_m34, L=l_34, VDS=vds_headroom)\n",
    "w_m34 = id_m34 / id_w_m34\n",
    "w_m34_round = max(round(w_m34 * 2) / 2, 0.5)\n",
    "print(f'M3/M4 W = {w_m34:.2f} µm, rounded = {w_m34_round} µm')\n",
    "\n",
    "# M5/M6: CMFB transistors\n",
    "id_m56 = id_m12\n",
    "id_w_m56 = lv_nmos.lookup('ID_W', GM_ID=gm_id_m56, L=l_56, VDS=vds_headroom)\n",
    "w_m56 = id_m56 / id_w_m56  # Assuming same current as input for CMFB\n",
    "w_m56_round = max(round(w_m56 * 2) / 2, 0.5)\n",
    "print(f'M5/M6 W = {w_m56:.2f} µm, rounded = {w_m56_round} µm')\n",
    "\n",
    "# Bias transistors\n",
    "# M11: Tail current source\n",
    "id_w_bias = lv_nmos.lookup('ID_W', GM_ID=gm_id_bias, L=l_bias, VDS=vds_headroom)\n",
    "w_m11 = i_tail / id_w_bias\n",
    "w_m11_round = max(round(w_m11 * 2) / 2, 0.5)\n",
    "print(f'M11 (tail) W = {w_m11:.2f} µm, rounded = {w_m11_round} µm')\n",
    "\n",
    "# M9/M10/M12: Other bias transistors\n",
    "w_m9 = w_m11_round * i_bias_in / i_tail\n",
    "w_m9_round = max(round(w_m9 * 2) / 2, 0.5)\n",
    "print(f'M9/M10/M12 W = {w_m9:.2f} µm, rounded = {w_m9_round} µm')"
   ]
  },
  {
   "cell_type": "code",
   "execution_count": 9,
   "metadata": {},
   "outputs": [
    {
     "name": "stdout",
     "output_type": "stream",
     "text": [
      "Input referred noise PSD = 6585.0 nV²/Hz\n",
      "Input referred noise (RMS) = 440798.2 nVrms\n",
      "Output referred noise (RMS) = 5243.2 µVrms\n"
     ]
    }
   ],
   "source": [
    "# Calculate noise performance\n",
    "# Look up thermal noise spectral density to find gamma\n",
    "sth_m12_lookup = lv_nmos.lookup('STH_GM', VGS=vgs_m12, L=l_12, VDS=vds_headroom)\n",
    "sth_m78_lookup = lv_pmos.lookup('STH_GM', VGS=vgs_m78, L=l_78, VDS=vds_headroom)\n",
    "\n",
    "# Calculate gamma factors (noise coefficients)\n",
    "# Note: A sth lookup value of 0 indicates it may be out of the model's range.\n",
    "gamma_m12 = sth_m12_lookup / (4 * 1.38e-23 * 300) if sth_m12_lookup > 0 else 2/3\n",
    "gamma_m78 = sth_m78_lookup / (4 * 1.38e-23 * 300) if sth_m78_lookup > 0 else 2/3\n",
    "\n",
    "# Input referred noise voltage spectral density (V^2/Hz)\n",
    "# Contribution from input pair (M1, M2) and active load (M7, M8)\n",
    "# S_v_in^2 = (8*k*T/gm_m12^2) * (gamma_n*gm_m12 + gamma_p*gm_m78)\n",
    "input_noise_psd = (8 * 1.38e-23 * 300 / gm_m12**2) * (gamma_m12 * gm_m12 + gamma_m78 * gm_m78)\n",
    "input_noise_rms = np.sqrt(input_noise_psd * f_ugb_actual)\n",
    "\n",
    "print(f'Input referred noise PSD = {input_noise_psd*1e18:.1f} nV²/Hz')\n",
    "print(f'Input referred noise (RMS) = {input_noise_rms*1e9:.1f} nVrms')\n",
    "\n",
    "# Output referred noise\n",
    "output_noise_rms = input_noise_rms * a0\n",
    "print(f'Output referred noise (RMS) = {output_noise_rms*1e6:.1f} µVrms')"
   ]
  },
  {
   "cell_type": "code",
   "execution_count": 10,
   "metadata": {},
   "outputs": [
    {
     "name": "stdout",
     "output_type": "stream",
     "text": [
      "Slewing time = 63.1 ns\n",
      "Linear settling time = 27.0 ns\n",
      "Total settling time = 90.1 ns\n"
     ]
    }
   ],
   "source": [
    "# Calculate settling time\n",
    "# Slewing time\n",
    "t_slew = c_total * output_voltage / i_tail\n",
    "print(f'Slewing time = {t_slew*1e9:.1f} ns')\n",
    "\n",
    "# Linear settling time (5 time constants)\n",
    "t_settle = 5 / (2 * np.pi * f_ugb_actual)\n",
    "print(f'Linear settling time = {t_settle*1e9:.1f} ns')\n",
    "\n",
    "# Total settling time\n",
    "t_total = t_slew + t_settle\n",
    "print(f'Total settling time = {t_total*1e9:.1f} ns')"
   ]
  },
  {
   "cell_type": "code",
   "execution_count": 11,
   "metadata": {},
   "outputs": [
    {
     "name": "stdout",
     "output_type": "stream",
     "text": [
      "\n",
      "Voltage Headroom Analysis:\n",
      "==============================\n",
      "Input CM range: 0.525 V to 1.275 V\n",
      "Output swing: 0.997 V (0.253 V to 1.250 V)\n",
      "[INFO] Input voltage range requirement is met!\n",
      "[WARNING] Output voltage requirement is NOT met!\n"
     ]
    }
   ],
   "source": [
    "# Voltage headroom analysis\n",
    "print('\\nVoltage Headroom Analysis:')\n",
    "print('=' * 30)\n",
    "\n",
    "# Look up threshold voltage for the input NMOS transistor\n",
    "vt_nmos = lv_nmos.lookup('VT', VGS=vgs_m12, L=l_12, VDS=vds_headroom)\n",
    "\n",
    "# Input common mode range\n",
    "# VCM_min is limited by keeping the tail current source (M11) in saturation\n",
    "vcm_min = vgs_m12 + vds_headroom\n",
    "# VCM_max is limited by keeping the input pair (M1/M2) in saturation\n",
    "vcm_max = vdd_min - abs(vgs_m78) + vt_nmos\n",
    "print(f'Input CM range: {vcm_min:.3f} V to {vcm_max:.3f} V')\n",
    "\n",
    "# Output swing analysis\n",
    "# Vout_min is limited by keeping M1/M2 in saturation\n",
    "vout_min = vcm_min - vt_nmos\n",
    "# Vout_max is limited by keeping the PMOS load (M7/M8) in saturation\n",
    "vout_max = vdd_min - vds_headroom\n",
    "output_swing_actual = vout_max - vout_min\n",
    "print(f'Output swing: {output_swing_actual:.3f} V ({vout_min:.3f} V to {vout_max:.3f} V)')\n",
    "\n",
    "# Check if specifications are met\n",
    "if vcm_min <= vin_min and vin_max <= vcm_max:\n",
    "    print('[INFO] Input voltage range requirement is met!')\n",
    "else:\n",
    "    print('[WARNING] Input voltage range requirement is NOT met!')\n",
    "\n",
    "if vout_max >= output_voltage:\n",
    "    print('[INFO] Output voltage requirement is met!')\n",
    "else:\n",
    "    print('[WARNING] Output voltage requirement is NOT met!')"
   ]
  },
  {
   "cell_type": "code",
   "execution_count": 12,
   "metadata": {},
   "outputs": [
    {
     "name": "stdout",
     "output_type": "stream",
     "text": [
      "\n",
      "==================================================\n",
      "SIMPLE OTA WITH PMOS ACTIVE LOAD DESIGN\n",
      "==================================================\n",
      "\n",
      "Transistor Dimensions:\n",
      "-------------------------\n",
      "# NOTE: These dimensions are from the original notebook and have not been recalculated.\n",
      "M1/M2 (input pair):     W = 0.5 µm, L = 0.5 µm\n",
      "M7/M8 (active load):    W = 0.5 µm, L = 0.5 µm\n",
      "M3/M4 (reference):      W = 0.5 µm, L = 0.5 µm\n",
      "M5/M6 (CMFB):           W = 0.5 µm, L = 0.5 µm\n",
      "M11 (tail current):     W = 0.5 µm, L = 0.5 µm\n",
      "M9/M10/M12 (bias):      W = 47.5 µm, L = 0.5 µm\n",
      "\n",
      "Performance Summary:\n",
      "-------------------------\n",
      "Supply current:         2.1 µA\n",
      "DC gain:                21.5 dB\n",
      "Unity gain bandwidth:   29.5 MHz\n",
      "Phase margin:           88.9°\n",
      "Input noise (RMS):      440798.2 nVrms\n",
      "Output swing:           0.997 V\n",
      "Settling time:          90.1 ns\n",
      "Input CM range:         0.525 V to 1.275 V\n",
      "\n",
      "Bias Voltages:\n",
      "-------------------------\n",
      "VGS M1/M2:              0.325 V\n",
      "VGS M7/M8:              0.447 V\n",
      "VGS M3/M4:              0.447 V\n",
      "VGS M5/M6:              0.446 V\n",
      "VGS bias:               0.446 V\n",
      "\n",
      "==================================================\n",
      "\n",
      "VDS Saturation Check:\n",
      "-------------------------\n",
      "VDS M11 = 0.475 V (must be > 0.2 V)\n",
      "VDS M7/M8 = -0.150 V (must be < -0.2 V)\n"
     ]
    }
   ],
   "source": [
    "# Final design summary\n",
    "print('\\n' + '=' * 50)\n",
    "print('SIMPLE OTA WITH PMOS ACTIVE LOAD DESIGN')\n",
    "print('=' * 50)\n",
    "\n",
    "print('\\nTransistor Dimensions:')\n",
    "print('-------------------------')\n",
    "print('# NOTE: These dimensions are from the original notebook and have not been recalculated.')\n",
    "print(f'M1/M2 (input pair):     W = {w_m12_round} µm, L = {l_12} µm')\n",
    "print(f'M7/M8 (active load):    W = {w_m78_round} µm, L = {l_78} µm')\n",
    "print(f'M3/M4 (reference):      W = {w_m34_round} µm, L = {l_34} µm')\n",
    "print(f'M5/M6 (CMFB):           W = {w_m56_round} µm, L = {l_56} µm')\n",
    "print(f'M11 (tail current):     W = {w_m11_round} µm, L = {l_bias} µm')\n",
    "print(f'M9/M10/M12 (bias):      W = {w_m9_round} µm, L = {l_bias} µm')\n",
    "\n",
    "print('\\nPerformance Summary:')\n",
    "print('-------------------------')\n",
    "print(f'Supply current:         {i_total*1e6:.1f} µA')\n",
    "print(f'DC gain:                {a0_db:.1f} dB')\n",
    "print(f'Unity gain bandwidth:   {f_ugb_actual*1e-6:.1f} MHz')\n",
    "print(f'Phase margin:           {phase_margin:.1f}°')\n",
    "print(f'Input noise (RMS):      {input_noise_rms*1e9:.1f} nVrms')\n",
    "print(f'Output swing:           {output_swing_actual:.3f} V')\n",
    "print(f'Settling time:          {t_total*1e9:.1f} ns')\n",
    "print(f'Input CM range:         {vcm_min:.3f} V to {vcm_max:.3f} V')\n",
    "\n",
    "print('\\nBias Voltages:')\n",
    "print('-------------------------')\n",
    "print(f'VGS M1/M2:              {float(vgs_m12):.3f} V')\n",
    "print(f'VGS M7/M8:              {float(vgs_m78):.3f} V')\n",
    "print(f'VGS M3/M4:              {float(vgs_m34):.3f} V')\n",
    "print(f'VGS M5/M6:              {float(vgs_m56):.3f} V')\n",
    "print(f'VGS bias:               {float(vgs_bias):.3f} V')\n",
    "\n",
    "print('\\n' + '=' * 50)\n",
    "\n",
    "# Assuming a typical input CM voltage for checking saturation\n",
    "vcm_typical = (vin_min + vin_max) / 2\n",
    "\n",
    "print('\\nVDS Saturation Check:')\n",
    "print('-------------------------')\n",
    "# Vds for the tail transistor M11\n",
    "vds_m11 = vcm_typical - vgs_m12\n",
    "print(f'VDS M11 = {vds_m11:.3f} V (must be > {vds_headroom} V)')\n",
    "\n",
    "# Vds for the active load M7/M8\n",
    "# Assuming output is at the specified DC level\n",
    "vds_m78 = output_voltage - vdd_min\n",
    "print(f'VDS M7/M8 = {vds_m78:.3f} V (must be < -{vds_headroom} V)')"
   ]
  },
  {
   "cell_type": "code",
   "execution_count": null,
   "metadata": {},
   "outputs": [],
   "source": []
  },
  {
   "cell_type": "code",
   "execution_count": null,
   "metadata": {},
   "outputs": [],
   "source": []
  },
  {
   "cell_type": "code",
   "execution_count": null,
   "metadata": {},
   "outputs": [],
   "source": []
  }
 ],
 "metadata": {
  "kernelspec": {
   "display_name": "Python 3 (ipykernel)",
   "language": "python",
   "name": "python3"
  },
  "language_info": {
   "codemirror_mode": {
    "name": "ipython",
    "version": 3
   },
   "file_extension": ".py",
   "mimetype": "text/x-python",
   "name": "python",
   "nbconvert_exporter": "python",
   "pygments_lexer": "ipython3",
   "version": "3.12.7"
  }
 },
 "nbformat": 4,
 "nbformat_minor": 4
}
